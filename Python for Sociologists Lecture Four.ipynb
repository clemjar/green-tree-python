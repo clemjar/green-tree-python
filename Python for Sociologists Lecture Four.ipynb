{
 "cells": [
  {
   "cell_type": "markdown",
   "metadata": {},
   "source": [
    "# Python for Sociologists: Lecture Four\n",
    "\n",
    "\n",
    "## Feedback on Homework Three\n",
    "\n",
    "[Insert feedback here]\n",
    "\n",
    "#### Plan for this week:  Functions and File I/O\n",
    "\n",
    "Congratulations on making it this far! As a reward, we're now going to begin to operate on real data. Lets have a quick reminder of what we learnt last week:\n",
    "\n",
    "1. List comprehensions and dictionary comprehensions\n",
    "2. Try/except: Careful where you place your code!\n",
    "3. Pseudocode: Focus on logic, not syntax"
   ]
  },
  {
   "cell_type": "code",
   "execution_count": 1,
   "metadata": {},
   "outputs": [
    {
     "name": "stdout",
     "output_type": "stream",
     "text": [
      "[2, 4, 6, 8, 10]\n",
      "{'negative 1': -1, 'negative 2': -2, 'negative 3': -3, 'negative 4': -4, 'negative 5': -5}\n"
     ]
    }
   ],
   "source": [
    "list1 = [i*2 for i in range(1,6)] \n",
    "dic1 = {\"negative \"+str(i) : -i for i in range(1,6)}#non-sequential!\n",
    "\n",
    "print(list1)\n",
    "print(dic1)"
   ]
  },
  {
   "cell_type": "markdown",
   "metadata": {},
   "source": [
    "## Section 9: Functions. \n",
    "\n",
    "### Section 9.1 Introduction to Functions\n",
    "\n",
    "Perhaps the most important concept that we will cover in this course is the notion of abstraction. To make something more abstract is to articulate or encode some phenomenon in a form that is less contingent or specific. If we can discern the commonalities between different cases, we can apply the same logic in a number of cases.\n",
    "\n",
    "The functional purpose of programming is typically to transform particular cases into more general ones. Instead of renaming every photo in a set of vacation photos, we can append \"Vacation2016_\" to all of them. In a broader sense, we are trying to automate or abstract tasks with computers in order to play to their strengths for speed and accuracy.\n",
    "When coding, we prefer abstraction because it gives code a number of advantages:\n",
    "\n",
    "* easier to re-use\n",
    "* more robust\n",
    "* more efficient for the coder.\n",
    "\n",
    "The primary way in which we employ abstraction in programming is the use of the function, f(x) = y. In this case x is some input, f() is a function that is applied to the input and y is the output. Here is a function in python:\n",
    "\n",
    "```python\n",
    "def greet(): \n",
    "    print('hello world')\n",
    "```\n",
    "\n",
    "This function simply prints the greeting 'hello world'. Now every time we want to say hello world, we could just say greet() instead. It is hardly an improvement, but when you place many reusable lines of code together, then the benefits become obvious."
   ]
  },
  {
   "cell_type": "code",
   "execution_count": null,
   "metadata": {
    "collapsed": true
   },
   "outputs": [],
   "source": [
    "def FunctionName (): #this is the strcuture of a funtion "
   ]
  },
  {
   "cell_type": "code",
   "execution_count": 2,
   "metadata": {},
   "outputs": [
    {
     "name": "stdout",
     "output_type": "stream",
     "text": [
      "Are you having a nice day today?\n"
     ]
    }
   ],
   "source": [
    "def greet(): \n",
    "    print('Are you having a nice day today?') #here the fucntion is just a sentence but it could be also a difficlt mathematical calcualation or a fucntion that searches for somethin in a tweet etc\n",
    "\n",
    "# Here is how you call this function\n",
    "greet()\n",
    "\n",
    "#above we defined the function 'greet' and it will work in my whole code"
   ]
  },
  {
   "cell_type": "code",
   "execution_count": 34,
   "metadata": {},
   "outputs": [
    {
     "name": "stdout",
     "output_type": "stream",
     "text": [
      "Are you having a nice day today?\n",
      "im outside the function - oh noooo\n"
     ]
    }
   ],
   "source": [
    "greet ( )"
   ]
  },
  {
   "cell_type": "code",
   "execution_count": 1,
   "metadata": {},
   "outputs": [
    {
     "name": "stdout",
     "output_type": "stream",
     "text": [
      "im outside the function - oh noooo\n",
      "Are you having a nice day today?\n"
     ]
    }
   ],
   "source": [
    "def greet(): \n",
    "    print('Are you having a nice day today?')\n",
    "    \n",
    "print ( 'im outside the function - oh noooo') #this is not part of the function above. see the output\n",
    "# Here is how you call this function\n",
    "greet()"
   ]
  },
  {
   "cell_type": "code",
   "execution_count": 2,
   "metadata": {},
   "outputs": [
    {
     "name": "stdout",
     "output_type": "stream",
     "text": [
      "Are you having a nice day today?\n",
      "im outside the function - oh noooo\n"
     ]
    }
   ],
   "source": [
    "def greet(): \n",
    "    print('Are you having a nice day today?')\n",
    "    print ( 'now im in the function - because i used spaces or tabs') \n",
    "# Here is how you call this function\n",
    "greet()"
   ]
  },
  {
   "cell_type": "markdown",
   "metadata": {},
   "source": [
    "Critically, functions can also take an input, operate on it, and then return the result:"
   ]
  },
  {
   "cell_type": "code",
   "execution_count": 3,
   "metadata": {},
   "outputs": [
    {
     "data": {
      "text/plain": [
       "10"
      ]
     },
     "execution_count": 3,
     "metadata": {},
     "output_type": "execute_result"
    }
   ],
   "source": [
    "def doubleme(input): \n",
    "    return input * 2 \n",
    "\n",
    "doubleme(5)"
   ]
  },
  {
   "cell_type": "code",
   "execution_count": 4,
   "metadata": {},
   "outputs": [
    {
     "data": {
      "text/plain": [
       "10"
      ]
     },
     "execution_count": 4,
     "metadata": {},
     "output_type": "execute_result"
    }
   ],
   "source": [
    "def doubleme(input):   #differnet way to do the same thing we have seen above\n",
    "    doublednumber=input*2\n",
    "    return doublednumber\n",
    "\n",
    "doubleme(5)"
   ]
  },
  {
   "cell_type": "code",
   "execution_count": 7,
   "metadata": {},
   "outputs": [
    {
     "data": {
      "text/plain": [
       "'hihi'"
      ]
     },
     "execution_count": 7,
     "metadata": {},
     "output_type": "execute_result"
    }
   ],
   "source": [
    "def doubleme(input): \n",
    "    return input * 2 \n",
    "\n",
    "doubleme('hi')"
   ]
  },
  {
   "cell_type": "code",
   "execution_count": 12,
   "metadata": {},
   "outputs": [
    {
     "name": "stdout",
     "output_type": "stream",
     "text": [
      "im printing within a function! doubled number: 10\n"
     ]
    },
    {
     "data": {
      "text/plain": [
       "10"
      ]
     },
     "execution_count": 12,
     "metadata": {},
     "output_type": "execute_result"
    }
   ],
   "source": [
    "def doubleme(input):      #this is the function \"definition\"\n",
    "    doublednumber=input*2\n",
    "    print ('im printing within a function! doubled number: '+str(doublednumber))\n",
    "    return doublednumber\n",
    "doubleme(5)       #this is the function \"call\""
   ]
  },
  {
   "cell_type": "markdown",
   "metadata": {},
   "source": [
    "Lets try some more functions as examples, including a try except. First, take a function which accepts strings as inputs:"
   ]
  },
  {
   "cell_type": "code",
   "execution_count": 4,
   "metadata": {},
   "outputs": [
    {
     "name": "stdout",
     "output_type": "stream",
     "text": [
      "My favourite colour is green\n"
     ]
    }
   ],
   "source": [
    "def favouritecolour(colour):\n",
    "    print('My favourite colour is '+colour)\n",
    "\n",
    "favouritecolour('green')"
   ]
  },
  {
   "cell_type": "markdown",
   "metadata": {},
   "source": [
    "What about if somebody tries to input a string into a function which only accepts mathematical arguements? Try and except to the rescue!"
   ]
  },
  {
   "cell_type": "code",
   "execution_count": 5,
   "metadata": {},
   "outputs": [
    {
     "name": "stdout",
     "output_type": "stream",
     "text": [
      "25\n",
      "Not a number! D'oh!\n"
     ]
    }
   ],
   "source": [
    "def numberfunction(number):\n",
    "    try:\n",
    "        print(number*number)\n",
    "    except:\n",
    "        print('Not a number! D\\'oh!')\n",
    "numberfunction(5)\n",
    "numberfunction('this is a string')"
   ]
  },
  {
   "cell_type": "code",
   "execution_count": 15,
   "metadata": {},
   "outputs": [
    {
     "name": "stdout",
     "output_type": "stream",
     "text": [
      "too small!\n"
     ]
    }
   ],
   "source": [
    "def numberfunction(number):\n",
    "    if number>5:\n",
    "        print(number*number)\n",
    "    else:\n",
    "        print('too small!')\n",
    "numberfunction(5)\n"
   ]
  },
  {
   "cell_type": "code",
   "execution_count": 16,
   "metadata": {},
   "outputs": [
    {
     "name": "stdout",
     "output_type": "stream",
     "text": [
      "100\n"
     ]
    }
   ],
   "source": [
    "def numberfunction(number):\n",
    "    if number>5:\n",
    "        print(number*number)\n",
    "    else:\n",
    "        print('too small!')\n",
    "numberfunction(10) #this is my \"call\" again\n",
    "\n"
   ]
  },
  {
   "cell_type": "code",
   "execution_count": 21,
   "metadata": {},
   "outputs": [
    {
     "name": "stdout",
     "output_type": "stream",
     "text": [
      "0\n",
      "1\n",
      "4\n",
      "9\n",
      "16\n",
      "25\n",
      "36\n",
      "49\n",
      "64\n",
      "81\n"
     ]
    }
   ],
   "source": [
    "def numberfunction(number):\n",
    "    print(number*number)\n",
    "    \n",
    "for i in range (0,10):      #so here we have a loop in the function \n",
    "    numberfunction(i)"
   ]
  },
  {
   "cell_type": "markdown",
   "metadata": {},
   "source": [
    "### 8.1. Passing variables around\n",
    "\n",
    "Parameters to functions are passed by reference, not as copies. This means that objects that get modified in the function are permanently changed. See this below example for further exposition:"
   ]
  },
  {
   "cell_type": "code",
   "execution_count": 6,
   "metadata": {},
   "outputs": [
    {
     "name": "stdout",
     "output_type": "stream",
     "text": [
      "The list before it was sorted:\n",
      " [7, 10, 1, 15, 2, 4]\n",
      "\n",
      "The list after it was sorted:\n",
      " [1, 2, 4, 7, 10, 15]\n"
     ]
    }
   ],
   "source": [
    "def has_1(listIn):\n",
    "    listIn.sort()   #sort command; listIn is a local function\n",
    "    return listIn\n",
    "\n",
    "mylist = [7, 10, 1, 15, 2, 4]     #here is the unsourted list\n",
    "\n",
    "print(\"The list before it was sorted:\\n\",mylist)\n",
    "\n",
    "result = has_1(mylist)\n",
    "\n",
    "print(\"\\nThe list after it was sorted:\\n\",result)"
   ]
  },
  {
   "cell_type": "markdown",
   "metadata": {},
   "source": [
    "### 9.2. Global vs local variables\n",
    "\n",
    "In python, variables are local if not otherwise declared. This means that when you define variables inside a function indentation, they are `local` to this function by default. While this topic is slightly more advanced and beyond the scope of this module, consider the following: "
   ]
  },
  {
   "cell_type": "code",
   "execution_count": 7,
   "metadata": {},
   "outputs": [
    {
     "name": "stdout",
     "output_type": "stream",
     "text": [
      "I love Taylor Swift the most!\n",
      "I love Katy Perry the most!\n"
     ]
    }
   ],
   "source": [
    "def myfavouritesinger():    #again here myfavouritesinger is the name of my function\n",
    "    s = \"I love Taylor Swift the most!\"\n",
    "    print(s) \n",
    "\n",
    "s = \"I love Katy Perry the most!\" #although we hace the same 's' it prints different strings, becasue one s is defined globaly and one is locally. so that means i can overwrite one \n",
    "myfavouritesinger()\n",
    "print(s)"
   ]
  },
  {
   "cell_type": "code",
   "execution_count": 22,
   "metadata": {},
   "outputs": [
    {
     "name": "stdout",
     "output_type": "stream",
     "text": [
      "I love Taylor Swift the most!\n"
     ]
    }
   ],
   "source": [
    "def myfavouritesinger():    \n",
    "    s = \"I love Taylor Swift the most!\"\n",
    "    return s \n",
    "\n",
    "s = \"I love Katy Perry the most!\"\n",
    "s = myfavouritesinger()  #now s is gloablly defined\n",
    "print(s)"
   ]
  },
  {
   "cell_type": "code",
   "execution_count": 25,
   "metadata": {},
   "outputs": [
    {
     "name": "stdout",
     "output_type": "stream",
     "text": [
      "I love Artic Monkeys the most!\n",
      "None\n"
     ]
    }
   ],
   "source": [
    "def myfavouritesinger():    #again here myfavouritesinger is the name of my function\n",
    "    a = \"I love Artic Monkeys the most!\"\n",
    "    print (a)\n",
    "    \n",
    "\n",
    "KP = \"I love Katy Perry the most!\"\n",
    "a = myfavouritesinger()  \n",
    "print (a)   #this gives us none because a is not defined globaly but locally so it only works in the local command above."
   ]
  },
  {
   "cell_type": "markdown",
   "metadata": {},
   "source": [
    "### 9.3 Abstraction\n",
    "\n",
    "Functions are most useful when we want to solve a repetitive task efficiently. However, there is a challenge: how do we make the functions general enough, but not too general? So far, we havent seen functions take or return more than one input or output:                 "
   ]
  },
  {
   "cell_type": "code",
   "execution_count": 8,
   "metadata": {},
   "outputs": [
    {
     "name": "stdout",
     "output_type": "stream",
     "text": [
      "i sure do love spaghetti Bolognese\n"
     ]
    }
   ],
   "source": [
    "def two_inputs (input1, input2):\n",
    "    return input1 + input2\n",
    "\n",
    "print('i sure do love '+two_inputs(\"spaghetti \",\"Bolognese\"))\n"
   ]
  },
  {
   "cell_type": "code",
   "execution_count": 29,
   "metadata": {
    "scrolled": true
   },
   "outputs": [
    {
     "data": {
      "text/plain": [
       "(10, 25)"
      ]
     },
     "execution_count": 29,
     "metadata": {},
     "output_type": "execute_result"
    }
   ],
   "source": [
    "def two_inputs(a):\n",
    "    b=a+a\n",
    "    c=a*a\n",
    "    return b, c\n",
    "two_inputs(int(5))\n",
    "  "
   ]
  },
  {
   "cell_type": "markdown",
   "metadata": {},
   "source": [
    "You can also declare default function inputs, for example like:\n",
    "\n",
    "```python\n",
    "def two_inputs(input1, input2 = \"burger\"):\n",
    "    return input1 + input2\n",
    "\n",
    "print(two_inputs(\"cheese\"))\n",
    "```\n",
    "However, Python doesn't like it, however, when the first argument has a default and the second one doesn't (try it yourself)."
   ]
  },
  {
   "cell_type": "markdown",
   "metadata": {},
   "source": [
    "## Section 10: Reading Files\n",
    "\n",
    "File manipulation is central to the management of data and thus to data analysis. Opening files in python is relatively straightforward. To open a file in python we create a 'file handler'. There are a couple ways of doing this, we will show three below. Most involve the basic format of:\n",
    "\n",
    "```python\n",
    "filein/fileout = open(\"PATH_TO_FILE\",'r'/'w'/'a')\n",
    "```"
   ]
  },
  {
   "cell_type": "code",
   "execution_count": 9,
   "metadata": {},
   "outputs": [
    {
     "name": "stdout",
     "output_type": "stream",
     "text": [
      "# Python for Sociologists\n",
      "---\n",
      "\n",
      "This is the repository for teaching Python for Sociologists at the Department of Sociology, University of Oxford. It contains all of the information that you will need about the course, as there will be no print-outs. Please check back here on a regular basis!\n"
     ]
    }
   ],
   "source": [
    "filein = open(\"README.md\",'r')   #here we need a 'file handler' which is in this exmaple filein\n",
    "\n",
    "print(filein.read())\n",
    "\n",
    "filein.close()"
   ]
  },
  {
   "cell_type": "markdown",
   "metadata": {},
   "source": [
    "```filein.close()``` closes the file after the operations are complete: it's a good habbit to always close files!"
   ]
  },
  {
   "cell_type": "code",
   "execution_count": 10,
   "metadata": {},
   "outputs": [
    {
     "name": "stdout",
     "output_type": "stream",
     "text": [
      "# Python for Sociologists\n",
      "\n",
      "---\n",
      "\n",
      "\n",
      "\n",
      "This is the repository for teaching Python for Sociologists at the Department of Sociology, University of Oxford. It contains all of the information that you will need about the course, as there will be no print-outs. Please check back here on a regular basis!\n"
     ]
    }
   ],
   "source": [
    "# Open a file and read it line by line:\n",
    "filein = open(\"README.md\",'r') #if the README:md file is not in the same place as my notebook I also need to define the path (to state how I can access the file)\n",
    "\n",
    "for i in filein: \n",
    "    print(i)\n",
    "\n",
    "filein.close() #its good practice to close file, so your ram is not blcoked by too many open files which would make your mac slower"
   ]
  },
  {
   "cell_type": "code",
   "execution_count": 33,
   "metadata": {},
   "outputs": [
    {
     "data": {
      "text/plain": [
       "['_CHUNK_SIZE',\n",
       " '__class__',\n",
       " '__del__',\n",
       " '__delattr__',\n",
       " '__dict__',\n",
       " '__dir__',\n",
       " '__doc__',\n",
       " '__enter__',\n",
       " '__eq__',\n",
       " '__exit__',\n",
       " '__format__',\n",
       " '__ge__',\n",
       " '__getattribute__',\n",
       " '__getstate__',\n",
       " '__gt__',\n",
       " '__hash__',\n",
       " '__init__',\n",
       " '__init_subclass__',\n",
       " '__iter__',\n",
       " '__le__',\n",
       " '__lt__',\n",
       " '__ne__',\n",
       " '__new__',\n",
       " '__next__',\n",
       " '__reduce__',\n",
       " '__reduce_ex__',\n",
       " '__repr__',\n",
       " '__setattr__',\n",
       " '__sizeof__',\n",
       " '__str__',\n",
       " '__subclasshook__',\n",
       " '_checkClosed',\n",
       " '_checkReadable',\n",
       " '_checkSeekable',\n",
       " '_checkWritable',\n",
       " '_finalizing',\n",
       " 'buffer',\n",
       " 'close',\n",
       " 'closed',\n",
       " 'detach',\n",
       " 'encoding',\n",
       " 'errors',\n",
       " 'fileno',\n",
       " 'flush',\n",
       " 'isatty',\n",
       " 'line_buffering',\n",
       " 'mode',\n",
       " 'name',\n",
       " 'newlines',\n",
       " 'read',\n",
       " 'readable',\n",
       " 'readline',\n",
       " 'readlines',\n",
       " 'seek',\n",
       " 'seekable',\n",
       " 'tell',\n",
       " 'truncate',\n",
       " 'writable',\n",
       " 'write',\n",
       " 'writelines']"
      ]
     },
     "execution_count": 33,
     "metadata": {},
     "output_type": "execute_result"
    }
   ],
   "source": [
    "dir(filein)"
   ]
  },
  {
   "cell_type": "markdown",
   "metadata": {},
   "source": [
    "Notice the difference? When the file reads a line, it breaks at the new line character, but it doesn't remove the character. One way to get around this is to ```strip``` whitespace, as we learnt in Lecture One:\n",
    "\n",
    "```python\n",
    "for i in filein: \n",
    "    print(i.strip()) \n",
    "```\n",
    "\n",
    "One way to guarantee that the file closes is to open it in the following way:\n",
    "\n",
    "```python\n",
    "with open(\"README.md\") as filein:\n",
    "    for line in filein:\n",
    "        print(line.strip())\n",
    "```\n",
    "\n",
    "Note that the line by line method might be more suitable if we are dealing with very, very large files."
   ]
  },
  {
   "cell_type": "markdown",
   "metadata": {},
   "source": [
    "## Section 11: Writing Files"
   ]
  },
  {
   "cell_type": "markdown",
   "metadata": {},
   "source": [
    "Writing files is very similar to how you read them. However, you need notice the 'w' (for 'write' parameter in the open() function. Lets save this nursery rhyme to a text file, and then read it in and print it line by line:"
   ]
  },
  {
   "cell_type": "markdown",
   "metadata": {},
   "source": [
    "Or you can write multiple times, adding to the end of the file\n",
    "```python\n",
    "with open(\"newer_file.txt\",'w') as fileout:\n",
    "    for line in range(5):\n",
    "        fileout.write('This is line %s\\n' % (line+1))\n",
    "```"
   ]
  },
  {
   "cell_type": "code",
   "execution_count": null,
   "metadata": {
    "collapsed": true
   },
   "outputs": [],
   "source": [
    "fileout = open(\"nurseryrhyme.txt\",'w')\n",
    "fileout.write('Hey diddle diddle,\\n The cat and the fiddle,\\n The cow jumped over the moon.\\n The little dog laughed,\\n To see such a sight,\\nAnd the dish ran away with the spoon') \n",
    "fileout.close()\n",
    "\n",
    "with open(\"nurseryrhyme.txt\") as filein:\n",
    "    for line in filein:\n",
    "        print(line.strip())"
   ]
  },
  {
   "cell_type": "code",
   "execution_count": null,
   "metadata": {
    "collapsed": true
   },
   "outputs": [],
   "source": [
    "#exmaple how to use it for twitter data\n",
    "with open(\"donaldtweets.txt\") as fileout:\n",
    "    for tweet in twitterbase:\n",
    "        if\"@therealdonald\" in tweet:\n",
    "            newtweet=functionall(tweet)\n",
    "            fileout.write (newtweet)\n",
    "    "
   ]
  },
  {
   "cell_type": "markdown",
   "metadata": {},
   "source": [
    "## Section 12. Programming outside Jupyter \n",
    "\n",
    "There are two main options when it comes to writing code outside of Jupyter notebooks. \n",
    "\n",
    "### 12.1 Integrated Development Environments.\n",
    "\n",
    "IDEs are coding tools which allow you to write/test/debug your code. They offer features such as completion/insight by highlighting, resource management, debugging tools, etc. They are therefore extremely useful for development. Some of the most commonly used ones are:\n",
    "\n",
    "1. Spyder: bundled with the Anaconda distribution, built specifically for data science. Interface similar to RStudio/MATLAB\n",
    "2. PyCharm: also has support for JavaScript, HTML/CSS, Angular JS, Node.js, etc. Full git integration.\n",
    "3. Rodeo: *very* similar to RStudio: divided into text editor, console, environment plot/libraries/files.\n",
    "\n",
    "### 12.2 Text editors\n",
    "\n",
    "Another option is to use a text editor and then execute the .py files in the command prompt/terminal. This comes in two steps:\n",
    "\n",
    "1. Edit code in a text editor (*strongly recommend Atom*)\n",
    "2. Open command window/terminal (Start > Run > \"cmd\" on Windows, Terminal on Mac/Liunux)\n",
    "\n",
    "### 12.3 Consoles\n",
    "\n",
    "You can also use the command window/terminal to prototype code on the fly:\n",
    "\n",
    "    > python"
   ]
  },
  {
   "cell_type": "markdown",
   "metadata": {},
   "source": [
    "## Optional-Homework\n",
    "\n",
    "Set up a text editor (try atom) for python development. Check out all of the plugins and features that you can! It'll make your life much easier in the long run if you want to keep at python development.\n",
    "\n",
    "## Non-Optional Homework\n",
    "\n",
    "Be sure to submit the Week Four Homework Questions via email by next 5pm on Tuesday!"
   ]
  }
 ],
 "metadata": {
  "kernelspec": {
   "display_name": "Python 3",
   "language": "python",
   "name": "python3"
  },
  "language_info": {
   "codemirror_mode": {
    "name": "ipython",
    "version": 3
   },
   "file_extension": ".py",
   "mimetype": "text/x-python",
   "name": "python",
   "nbconvert_exporter": "python",
   "pygments_lexer": "ipython3",
   "version": "3.6.3"
  }
 },
 "nbformat": 4,
 "nbformat_minor": 1
}
